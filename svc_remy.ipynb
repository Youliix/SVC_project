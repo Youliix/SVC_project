{
 "cells": [
  {
   "attachments": {},
   "cell_type": "markdown",
   "metadata": {},
   "source": [
    "<h1 style=\"text-align: center\">\n",
    "    Qu'est ce que le SVC ?\n",
    "\n",
    "</h1>\n",
    "\n",
    "\n",
    "\n",
    "* Basé sur le SVM (Support Vector Machine, ou Machine à Vecteurs de Support en français), c'est un modèle de classification fonctionnant en identifiant un hyperplan (droite en 2D ou surface en 3D) de séparation optimale entre différentes classes (features) dans l'espace. \n",
    "Il peut être utilisé aussi bien pour la classification binaire que multi-classe.\n",
    "\n",
    "<hr>\n",
    "\n",
    "* Le SVC (Support Vector Classification, ou Classification par Vecteurs de Support en français) est une implémentation de l'algorithme SVM pour la classification. \n",
    "Il utilise un noyau (kernel) pour transformer les données d'entrée dans un espace de features de plus haute dimension, de manière à ce qu'un hyperplan de séparation puisse être trouvé facilement.\n",
    "Grossièrement le noyau correspond à la fonction générée pour produire l'hyperplan (droite ou plan).\n",
    "\n",
    "<hr>\n",
    "\n",
    "* Le SVM est souvent utilisé lorsque les données sont \"linéairement séparable\", c'est-à-dire qu'il existe un hyperplan qui peut séparer clairement les différentes classes les unes des autres. \n",
    "Si les données ne sont pas linéairement séparables, le SVM peut quand même être utilisé en utilisant un noyau qui transforme les données dans un espace de features de plus haute dimension où elles deviennent linéairement séparables.\n",
    "\n",
    "<hr>\n",
    "\n",
    "* Le SVM est souvent considéré comme un modèle de classification robuste et performant, en particulier lorsque les données ont un nombre élevé de dimensions (c'est-à-dire sont à \"haute dimension\"). \n",
    "Cependant, il peut être relativement lent à entraîner lorsque les données ont un grand nombre d'exemples (c'est-à-dire sont à \"grande échelle\").\n"
   ]
  },
  {
   "attachments": {},
   "cell_type": "markdown",
   "metadata": {},
   "source": [
    "<h1 style=\"text-align: center\">\n",
    "     Ci-dessous une liste des hyperparamètres les plus courament utilisés pour optimiser le modèle de SVC:\n",
    "     \n",
    "</h1>\n",
    "\n",
    "* C : ce paramètre contrôle la force de régularisation du modèle. \n",
    "Plus C est grand, plus le modèle sera complexe et donc plus il y a de chances qu'il surapprenne (c'est-à-dire qu'il s'ajuste trop bien aux données d'entraînement au détriment de sa généralisation aux données de test). \n",
    "Un C faible signifie une régularisation forte et un modèle moins complexe.\n",
    "\n",
    "<hr>\n",
    "\n",
    "* kernel : ce paramètre spécifie quel type de noyau utiliser pour transformer les données d'entrée dans un espace de features de plus haute dimension. Les options courantes incluent \"linear\" (pour un noyau linéaire), \"rbf\" (p our un noyau gaussien, aussi appelé \"radial basis function\"), et \"poly\" (pour un noyau polynomial).\n",
    "  \n",
    "<hr>\n",
    "\n",
    "* degree : ce paramètre est utilisé lorsque le noyau \"poly\" est sélectionné et spécifie le degré du polynôme à utiliser.\n",
    "\n",
    "<hr>\n",
    "\n",
    "* gamma : ce paramètre est utilisé lorsque le noyau \"rbf\" ou \"poly\" est sélectionné et contrôle la complexité du modèle. Plus gamma est grand, plus le modèle sera complexe et donc plus il y a de chances qu'il surapprenne.\n",
    "\n",
    "<hr>\n",
    "\n",
    "* coef0 : ce paramètre est utilisé lorsque le noyau \"poly\" est sélectionné et contrôle le degré de liberté du modèle."
   ]
  },
  {
   "cell_type": "code",
   "execution_count": 1,
   "metadata": {},
   "outputs": [],
   "source": [
    "import pandas as pd\n",
    "import seaborn as sns\n",
    "import numpy as np\n",
    "import pandas as pd\n",
    "from sklearn.model_selection import train_test_split\n",
    "from sklearn.svm import SVC\n",
    "from sklearn.metrics import accuracy_score\n",
    "import matplotlib.pyplot as plt\n",
    "from sklearn import svm\n",
    "from sklearn.inspection import DecisionBoundaryDisplay\n",
    "from sklearn.preprocessing import OrdinalEncoder, OneHotEncoder"
   ]
  },
  {
   "cell_type": "code",
   "execution_count": 2,
   "metadata": {},
   "outputs": [],
   "source": [
    "df = pd.read_csv(\"mushrooms.csv\")"
   ]
  },
  {
   "cell_type": "code",
   "execution_count": 3,
   "metadata": {},
   "outputs": [
    {
     "data": {
      "text/html": [
       "<div>\n",
       "<style scoped>\n",
       "    .dataframe tbody tr th:only-of-type {\n",
       "        vertical-align: middle;\n",
       "    }\n",
       "\n",
       "    .dataframe tbody tr th {\n",
       "        vertical-align: top;\n",
       "    }\n",
       "\n",
       "    .dataframe thead th {\n",
       "        text-align: right;\n",
       "    }\n",
       "</style>\n",
       "<table border=\"1\" class=\"dataframe\">\n",
       "  <thead>\n",
       "    <tr style=\"text-align: right;\">\n",
       "      <th></th>\n",
       "      <th>class</th>\n",
       "      <th>cap-shape</th>\n",
       "      <th>cap-surface</th>\n",
       "      <th>cap-color</th>\n",
       "      <th>bruises</th>\n",
       "      <th>odor</th>\n",
       "      <th>gill-attachment</th>\n",
       "      <th>gill-spacing</th>\n",
       "      <th>gill-size</th>\n",
       "      <th>gill-color</th>\n",
       "      <th>...</th>\n",
       "      <th>stalk-surface-below-ring</th>\n",
       "      <th>stalk-color-above-ring</th>\n",
       "      <th>stalk-color-below-ring</th>\n",
       "      <th>veil-type</th>\n",
       "      <th>veil-color</th>\n",
       "      <th>ring-number</th>\n",
       "      <th>ring-type</th>\n",
       "      <th>spore-print-color</th>\n",
       "      <th>population</th>\n",
       "      <th>habitat</th>\n",
       "    </tr>\n",
       "  </thead>\n",
       "  <tbody>\n",
       "    <tr>\n",
       "      <th>3104</th>\n",
       "      <td>p</td>\n",
       "      <td>x</td>\n",
       "      <td>s</td>\n",
       "      <td>g</td>\n",
       "      <td>f</td>\n",
       "      <td>c</td>\n",
       "      <td>f</td>\n",
       "      <td>w</td>\n",
       "      <td>n</td>\n",
       "      <td>g</td>\n",
       "      <td>...</td>\n",
       "      <td>s</td>\n",
       "      <td>w</td>\n",
       "      <td>w</td>\n",
       "      <td>p</td>\n",
       "      <td>w</td>\n",
       "      <td>o</td>\n",
       "      <td>p</td>\n",
       "      <td>k</td>\n",
       "      <td>s</td>\n",
       "      <td>d</td>\n",
       "    </tr>\n",
       "    <tr>\n",
       "      <th>3880</th>\n",
       "      <td>e</td>\n",
       "      <td>f</td>\n",
       "      <td>y</td>\n",
       "      <td>e</td>\n",
       "      <td>t</td>\n",
       "      <td>n</td>\n",
       "      <td>f</td>\n",
       "      <td>c</td>\n",
       "      <td>b</td>\n",
       "      <td>p</td>\n",
       "      <td>...</td>\n",
       "      <td>s</td>\n",
       "      <td>g</td>\n",
       "      <td>g</td>\n",
       "      <td>p</td>\n",
       "      <td>w</td>\n",
       "      <td>o</td>\n",
       "      <td>p</td>\n",
       "      <td>k</td>\n",
       "      <td>y</td>\n",
       "      <td>d</td>\n",
       "    </tr>\n",
       "    <tr>\n",
       "      <th>2156</th>\n",
       "      <td>e</td>\n",
       "      <td>x</td>\n",
       "      <td>y</td>\n",
       "      <td>n</td>\n",
       "      <td>t</td>\n",
       "      <td>n</td>\n",
       "      <td>f</td>\n",
       "      <td>c</td>\n",
       "      <td>b</td>\n",
       "      <td>n</td>\n",
       "      <td>...</td>\n",
       "      <td>s</td>\n",
       "      <td>p</td>\n",
       "      <td>g</td>\n",
       "      <td>p</td>\n",
       "      <td>w</td>\n",
       "      <td>o</td>\n",
       "      <td>p</td>\n",
       "      <td>n</td>\n",
       "      <td>y</td>\n",
       "      <td>d</td>\n",
       "    </tr>\n",
       "  </tbody>\n",
       "</table>\n",
       "<p>3 rows × 23 columns</p>\n",
       "</div>"
      ],
      "text/plain": [
       "     class cap-shape cap-surface cap-color bruises odor gill-attachment  \\\n",
       "3104     p         x           s         g       f    c               f   \n",
       "3880     e         f           y         e       t    n               f   \n",
       "2156     e         x           y         n       t    n               f   \n",
       "\n",
       "     gill-spacing gill-size gill-color  ... stalk-surface-below-ring  \\\n",
       "3104            w         n          g  ...                        s   \n",
       "3880            c         b          p  ...                        s   \n",
       "2156            c         b          n  ...                        s   \n",
       "\n",
       "     stalk-color-above-ring stalk-color-below-ring veil-type veil-color  \\\n",
       "3104                      w                      w         p          w   \n",
       "3880                      g                      g         p          w   \n",
       "2156                      p                      g         p          w   \n",
       "\n",
       "     ring-number ring-type spore-print-color population habitat  \n",
       "3104           o         p                 k          s       d  \n",
       "3880           o         p                 k          y       d  \n",
       "2156           o         p                 n          y       d  \n",
       "\n",
       "[3 rows x 23 columns]"
      ]
     },
     "execution_count": 3,
     "metadata": {},
     "output_type": "execute_result"
    }
   ],
   "source": [
    "df.sample(3)"
   ]
  },
  {
   "cell_type": "code",
   "execution_count": 4,
   "metadata": {},
   "outputs": [],
   "source": [
    "# Split the dataset into features (X) and labels (y)\n",
    "y = df[\"class\"]\n",
    "X = df[[\"gill-size\", \"gill-color\"]]"
   ]
  },
  {
   "cell_type": "code",
   "execution_count": 5,
   "metadata": {},
   "outputs": [
    {
     "data": {
      "text/plain": [
       "array([['n', 'k'],\n",
       "       ['b', 'k'],\n",
       "       ['b', 'n'],\n",
       "       ...,\n",
       "       ['b', 'n'],\n",
       "       ['n', 'b'],\n",
       "       ['b', 'y']], dtype=object)"
      ]
     },
     "execution_count": 5,
     "metadata": {},
     "output_type": "execute_result"
    }
   ],
   "source": [
    "X = X.values\n",
    "X"
   ]
  },
  {
   "cell_type": "code",
   "execution_count": 6,
   "metadata": {},
   "outputs": [],
   "source": [
    "encoder = OrdinalEncoder()\n",
    "X = encoder.fit_transform(X)"
   ]
  },
  {
   "cell_type": "code",
   "execution_count": 7,
   "metadata": {},
   "outputs": [
    {
     "data": {
      "text/plain": [
       "array([[ 1.,  4.],\n",
       "       [ 0.,  4.],\n",
       "       [ 0.,  5.],\n",
       "       ...,\n",
       "       [ 0.,  5.],\n",
       "       [ 1.,  0.],\n",
       "       [ 0., 11.]])"
      ]
     },
     "execution_count": 7,
     "metadata": {},
     "output_type": "execute_result"
    }
   ],
   "source": [
    "X"
   ]
  },
  {
   "cell_type": "code",
   "execution_count": 8,
   "metadata": {},
   "outputs": [],
   "source": [
    "encoder_2 = OrdinalEncoder(categories=[[\"p\"], [\"e\"]])\n",
    "df[\"class\"] = encoder.fit_transform(df[[\"class\"]])\n",
    "y = df[\"class\"]"
   ]
  },
  {
   "cell_type": "code",
   "execution_count": 9,
   "metadata": {},
   "outputs": [
    {
     "data": {
      "text/plain": [
       "array([1., 0., 0., ..., 0., 1., 0.])"
      ]
     },
     "execution_count": 9,
     "metadata": {},
     "output_type": "execute_result"
    }
   ],
   "source": [
    "y.to_numpy()"
   ]
  },
  {
   "cell_type": "code",
   "execution_count": 11,
   "metadata": {},
   "outputs": [
    {
     "name": "stderr",
     "output_type": "stream",
     "text": [
      "C:\\Users\\mathi\\AppData\\Roaming\\Python\\Python311\\site-packages\\sklearn\\svm\\_base.py:1244: ConvergenceWarning: Liblinear failed to converge, increase the number of iterations.\n",
      "  warnings.warn(\n",
      "C:\\Users\\mathi\\AppData\\Roaming\\Python\\Python311\\site-packages\\sklearn\\svm\\_base.py:1244: ConvergenceWarning: Liblinear failed to converge, increase the number of iterations.\n",
      "  warnings.warn(\n"
     ]
    }
   ],
   "source": [
    "for i in range(1, 200, 50) :  \n",
    "    models = (\n",
    "        svm.SVC(kernel=\"linear\", C=float(i)),\n",
    "        svm.LinearSVC(C=float(i), max_iter=500),\n",
    "        svm.SVC(kernel=\"rbf\", gamma=0.7, C=float(i)),\n",
    "        svm.SVC(kernel=\"poly\", degree=3, gamma=\"auto\", C=float(i)),\n",
    "    )\n",
    "    models = (clf.fit(X, y) for clf in models)\n",
    "    titles = (\n",
    "        f\"SVC kernel lineaire (C={i})\",\n",
    "        f\"LinearSVC kernel lineaire (C={i})\",      \n",
    "        f\"SVC kernel RBF (C={i})\",\n",
    "        f\"SVC kernel polynôme degrée 3 (C={i})\",\n",
    "    )\n",
    "    # Set-up grille 2x2 pour le plot.\n",
    "    fig, sub = plt.subplots(2, 2)\n",
    "    plt.subplots_adjust(wspace=0.4, hspace=0.4)\n",
    "\n",
    "    X0, X1 = X[:, 0], X[:, 1]\n",
    "\n",
    "    for clf, title, ax in zip(models, titles, sub.flatten()):\n",
    "        disp = DecisionBoundaryDisplay.from_estimator(\n",
    "            clf,\n",
    "            X,\n",
    "            response_method=\"predict\",\n",
    "            cmap=plt.cm.coolwarm,\n",
    "            alpha=0.8,\n",
    "            ax=ax,\n",
    "            xlabel=\"gill-size\",\n",
    "            ylabel=\"gill-color\",\n",
    "        )\n",
    "        ax.scatter(X0, X1, c=y, cmap=plt.cm.coolwarm, s=20, edgecolors=\"k\")\n",
    "        ax.set_xticks(())\n",
    "        ax.set_yticks(())\n",
    "        ax.set_title(title)"
   ]
  },
  {
   "cell_type": "code",
   "execution_count": null,
   "metadata": {},
   "outputs": [],
   "source": [
    "plt.show()"
   ]
  }
 ],
 "metadata": {
  "kernelspec": {
   "display_name": "Python 3",
   "language": "python",
   "name": "python3"
  },
  "language_info": {
   "codemirror_mode": {
    "name": "ipython",
    "version": 3
   },
   "file_extension": ".py",
   "mimetype": "text/x-python",
   "name": "python",
   "nbconvert_exporter": "python",
   "pygments_lexer": "ipython3",
   "version": "3.11.1 (tags/v3.11.1:a7a450f, Dec  6 2022, 19:58:39) [MSC v.1934 64 bit (AMD64)]"
  },
  "orig_nbformat": 4,
  "vscode": {
   "interpreter": {
    "hash": "5238573367df39f7286bb46f9ff5f08f63a01a80960060ce41e3c79b190280fa"
   }
  }
 },
 "nbformat": 4,
 "nbformat_minor": 2
}
